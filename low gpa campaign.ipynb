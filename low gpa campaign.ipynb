{
 "cells": [
  {
   "cell_type": "code",
   "execution_count": null,
   "metadata": {},
   "outputs": [],
   "source": [
    "import pandas as pd"
   ]
  },
  {
   "cell_type": "code",
   "execution_count": null,
   "metadata": {},
   "outputs": [],
   "source": [
    "df = pd.read_csv(\"./campus-v2report-enrollment-2023-11-07.csv\", header=1)\n",
    "df"
   ]
  },
  {
   "cell_type": "code",
   "execution_count": null,
   "metadata": {},
   "outputs": [],
   "source": [
    "df = df[df[\"Dropped?\"] == \"No\"]\n",
    "df[\"Dropped?\"].unique()"
   ]
  },
  {
   "cell_type": "code",
   "execution_count": null,
   "metadata": {},
   "outputs": [],
   "source": [
    "numeric_grades = pd.to_numeric(df[\"Midterm Grade\"], errors=\"coerce\")\n",
    "\n",
    "thirty_to_seventy = (numeric_grades < 70) & (numeric_grades > 30)\n",
    "ds_and_fs = df[\"Midterm Grade\"].isin(list(\"DF\"))\n",
    "\n",
    "df = df[thirty_to_seventy | ds_and_fs]"
   ]
  },
  {
   "cell_type": "code",
   "execution_count": null,
   "metadata": {},
   "outputs": [],
   "source": [
    "df[\"Midterm Grade\"].drop_duplicates().sort_values()"
   ]
  },
  {
   "cell_type": "markdown",
   "metadata": {},
   "source": [
    "Grad/UG"
   ]
  },
  {
   "cell_type": "code",
   "execution_count": null,
   "metadata": {},
   "outputs": [],
   "source": [
    "UGC = df[\"Categories\"].str.contains(\n",
    "    r\"Pathways Student,|, ?UG,?|^UG$\", case=False, regex=True, na=False\n",
    ")\n",
    "Grad = df[\"Categories\"].str.contains(\n",
    "    r\"^GR,?|,?GR$|GR,\", case=False, regex=True, na=False\n",
    ")\n",
    "df.loc[UGC, \"Grad/UG\"] = \"UG\"\n",
    "df.loc[Grad, \"Grad/UG\"] = \"Grad\"\n",
    "df[\"Grad/UG\"] = df[\"Grad/UG\"].fillna(\"Other\")"
   ]
  },
  {
   "cell_type": "code",
   "execution_count": null,
   "metadata": {},
   "outputs": [],
   "source": [
    "df[df[\"Grad/UG\"] == \"Grad\"].to_csv(\"output-grad.csv\", index=False)\n",
    "df[df[\"Grad/UG\"] != \"Grad\"].to_csv(\"output-UG-and-other.csv\", index=False)"
   ]
  }
 ],
 "metadata": {
  "kernelspec": {
   "display_name": "base",
   "language": "python",
   "name": "python3"
  },
  "language_info": {
   "codemirror_mode": {
    "name": "ipython",
    "version": 3
   },
   "file_extension": ".py",
   "mimetype": "text/x-python",
   "name": "python",
   "nbconvert_exporter": "python",
   "pygments_lexer": "ipython3",
   "version": "3.11.5"
  }
 },
 "nbformat": 4,
 "nbformat_minor": 2
}
